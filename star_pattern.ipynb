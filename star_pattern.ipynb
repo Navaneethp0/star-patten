{
  "nbformat": 4,
  "nbformat_minor": 0,
  "metadata": {
    "colab": {
      "provenance": [],
      "authorship_tag": "ABX9TyNC6cH69S3L4Om1TBGcNjb6",
      "include_colab_link": true
    },
    "kernelspec": {
      "name": "python3",
      "display_name": "Python 3"
    },
    "language_info": {
      "name": "python"
    }
  },
  "cells": [
    {
      "cell_type": "markdown",
      "metadata": {
        "id": "view-in-github",
        "colab_type": "text"
      },
      "source": [
        "<a href=\"https://colab.research.google.com/github/Navaneethp0/star-patten/blob/main/star_pattern.ipynb\" target=\"_parent\"><img src=\"https://colab.research.google.com/assets/colab-badge.svg\" alt=\"Open In Colab\"/></a>"
      ]
    },
    {
      "cell_type": "code",
      "execution_count": null,
      "metadata": {
        "colab": {
          "base_uri": "https://localhost:8080/"
        },
        "id": "XLKqYVcEQgDL",
        "outputId": "a6d3aafe-77d3-4de5-aa44-30af46441c42"
      },
      "outputs": [
        {
          "output_type": "stream",
          "name": "stdout",
          "text": [
            "* * * * * * * \n",
            "*   *   *   * \n",
            "* *       * * \n",
            "*           * \n",
            "* *       * * \n",
            "*   *   *   * \n",
            "* * * * * * * \n"
          ]
        }
      ],
      "source": [
        "for row in range(7):\n",
        "  for col in range(7):\n",
        "    if row==0 or row==6 or col==0 or col==6 or col+row==3 or col-row==3 or row-col==3 or  col+row==9:\n",
        "      print(\"*\",end=\" \")\n",
        "    else:\n",
        "      print(\" \",end=\" \")\n",
        "  print()"
      ]
    }
  ]
}